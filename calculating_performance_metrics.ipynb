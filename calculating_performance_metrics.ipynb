{
 "cells": [
  {
   "cell_type": "code",
   "execution_count": 3,
   "id": "90db5991",
   "metadata": {},
   "outputs": [],
   "source": [
    "import pandas as pd\n",
    "import matplotlib.pyplot as plt\n",
    "import numpy as np\n",
    "import math"
   ]
  },
  {
   "cell_type": "code",
   "execution_count": 4,
   "id": "fd234bfb",
   "metadata": {},
   "outputs": [],
   "source": [
    "data = pd.read_csv(\"data_2000.csv\")"
   ]
  },
  {
   "cell_type": "code",
   "execution_count": 5,
   "id": "8259a808",
   "metadata": {},
   "outputs": [
    {
     "name": "stdout",
     "output_type": "stream",
     "text": [
      "      Unnamed: 0  Unnamed: 0.1  game_date home_team away_team  is_day_game  \\\n",
      "0              0             0   20000329       NYN       CHN        False   \n",
      "1              1             1   20000330       CHN       NYN        False   \n",
      "2              2             2   20000403       ATL       COL         True   \n",
      "3              3             3   20000403       CIN       MIL         True   \n",
      "4              4             4   20000403       FLO       SFN        False   \n",
      "...          ...           ...        ...       ...       ...          ...   \n",
      "2424        2424          2424   20001001       CHA       KCA         True   \n",
      "2425        2425          2425   20001001       CLE       TOR         True   \n",
      "2426        2426          2426   20001001       DET       MIN         True   \n",
      "2427        2427          2427   20001001       OAK       TEX         True   \n",
      "2428        2428          2428   20001001       TBA       BOS         True   \n",
      "\n",
      "      home_score  away_score  venue  \\\n",
      "0              3           5  TOK01   \n",
      "1              1           5  TOK01   \n",
      "2              2           0  ATL02   \n",
      "3              3           3  CIN08   \n",
      "4              6           4  MIA01   \n",
      "...          ...         ...    ...   \n",
      "2424           2           6  CHI12   \n",
      "2425          11           4  CLE08   \n",
      "2426          12          11  DET05   \n",
      "2427           3           0  OAK01   \n",
      "2428           3           2  STP01   \n",
      "\n",
      "                                     venue_name  ... home_hbp away_pa  \\\n",
      "0                                    Tokyo Dome  ...        1      38   \n",
      "1                                    Tokyo Dome  ...        1      44   \n",
      "2                                  Turner Field  ...        0      32   \n",
      "3                                 Cinergy Field  ...        0      20   \n",
      "4                              Sun Life Stadium  ...        0      38   \n",
      "...                                         ...  ...      ...     ...   \n",
      "2424  Guaranteed Rate Field;U.S. Cellular Field  ...        1      37   \n",
      "2425                          Progressive Field  ...        0      38   \n",
      "2426                              Comerica Park  ...        2      46   \n",
      "2427            Oakland-Alameda County Coliseum  ...        1      34   \n",
      "2428                            Tropicana Field  ...        0      45   \n",
      "\n",
      "      away_1b  away_2b  away_3b  away_hr  away_fo  away_so  away_bb  away_hbp  \n",
      "0           5        1        0        1       24        4        3         0  \n",
      "1           5        0        0        0       24        9        6         0  \n",
      "2           5        0        0        2       17        6        1         1  \n",
      "3           3        1        0        1       10        4        1         0  \n",
      "4           9        3        0        0       17        7        1         1  \n",
      "...       ...      ...      ...      ...      ...      ...      ...       ...  \n",
      "2424        6        1        0        1       18        4        7         0  \n",
      "2425        6        2        0        4       17        7        1         1  \n",
      "2426       15        3        0        1       17        5        5         0  \n",
      "2427        4        2        0        2       17        5        4         0  \n",
      "2428        9        0        0        1       21        6        7         1  \n",
      "\n",
      "[2429 rows x 30 columns]\n"
     ]
    }
   ],
   "source": [
    "print(data)"
   ]
  },
  {
   "cell_type": "code",
   "execution_count": 6,
   "id": "9a84e697",
   "metadata": {},
   "outputs": [],
   "source": [
    "data = data.drop(columns = ['Unnamed: 0','Unnamed: 0.1','is_day_game','venue','venue_name','city','state'])"
   ]
  },
  {
   "cell_type": "code",
   "execution_count": 7,
   "id": "f0ffdbbe",
   "metadata": {},
   "outputs": [
    {
     "name": "stdout",
     "output_type": "stream",
     "text": [
      "      game_date home_team away_team  home_score  away_score  home_pa  home_1b  \\\n",
      "0      20000329       NYN       CHN           3           5       45        9   \n",
      "1      20000330       CHN       NYN           1           5       48        3   \n",
      "2      20000403       ATL       COL           2           0       34        4   \n",
      "3      20000403       CIN       MIL           3           3       27        6   \n",
      "4      20000403       FLO       SFN           6           4       36        5   \n",
      "...         ...       ...       ...         ...         ...      ...      ...   \n",
      "2424   20001001       CHA       KCA           2           6       42        5   \n",
      "2425   20001001       CLE       TOR          11           4       35        5   \n",
      "2426   20001001       DET       MIN          12          11       50       11   \n",
      "2427   20001001       OAK       TEX           3           0       36        4   \n",
      "2428   20001001       TBA       BOS           3           2       44        6   \n",
      "\n",
      "      home_2b  home_3b  home_hr  ...  home_hbp  away_pa  away_1b  away_2b  \\\n",
      "0           1        0        2  ...         1       38        5        1   \n",
      "1           2        0        1  ...         1       44        5        0   \n",
      "2           2        0        0  ...         0       32        5        0   \n",
      "3           1        0        0  ...         0       20        3        1   \n",
      "4           2        2        1  ...         0       38        9        3   \n",
      "...       ...      ...      ...  ...       ...      ...      ...      ...   \n",
      "2424        4        0        1  ...         1       37        6        1   \n",
      "2425        1        0        2  ...         0       38        6        2   \n",
      "2426        4        0        0  ...         2       46       15        3   \n",
      "2427        2        0        0  ...         1       34        4        2   \n",
      "2428        1        0        2  ...         0       45        9        0   \n",
      "\n",
      "      away_3b  away_hr  away_fo  away_so  away_bb  away_hbp  \n",
      "0           0        1       24        4        3         0  \n",
      "1           0        0       24        9        6         0  \n",
      "2           0        2       17        6        1         1  \n",
      "3           0        1       10        4        1         0  \n",
      "4           0        0       17        7        1         1  \n",
      "...       ...      ...      ...      ...      ...       ...  \n",
      "2424        0        1       18        4        7         0  \n",
      "2425        0        4       17        7        1         1  \n",
      "2426        0        1       17        5        5         0  \n",
      "2427        0        2       17        5        4         0  \n",
      "2428        0        1       21        6        7         1  \n",
      "\n",
      "[2429 rows x 23 columns]\n"
     ]
    }
   ],
   "source": [
    "print(data)"
   ]
  },
  {
   "cell_type": "code",
   "execution_count": 8,
   "id": "3984ec32",
   "metadata": {},
   "outputs": [],
   "source": [
    "filtered_data = data[['game_date','home_team','away_team','home_score','away_score']]"
   ]
  },
  {
   "cell_type": "code",
   "execution_count": 9,
   "id": "6e28340b",
   "metadata": {},
   "outputs": [
    {
     "name": "stdout",
     "output_type": "stream",
     "text": [
      "      game_date home_team away_team  home_score  away_score\n",
      "0      20000329       NYN       CHN           3           5\n",
      "1      20000330       CHN       NYN           1           5\n",
      "2      20000403       ATL       COL           2           0\n",
      "3      20000403       CIN       MIL           3           3\n",
      "4      20000403       FLO       SFN           6           4\n",
      "...         ...       ...       ...         ...         ...\n",
      "2424   20001001       CHA       KCA           2           6\n",
      "2425   20001001       CLE       TOR          11           4\n",
      "2426   20001001       DET       MIN          12          11\n",
      "2427   20001001       OAK       TEX           3           0\n",
      "2428   20001001       TBA       BOS           3           2\n",
      "\n",
      "[2429 rows x 5 columns]\n"
     ]
    }
   ],
   "source": [
    "print(filtered_data)"
   ]
  },
  {
   "cell_type": "code",
   "execution_count": 10,
   "id": "50994ccf",
   "metadata": {},
   "outputs": [
    {
     "name": "stderr",
     "output_type": "stream",
     "text": [
      "C:\\Users\\kusha\\anaconda3\\lib\\site-packages\\pandas\\core\\indexing.py:1684: SettingWithCopyWarning: \n",
      "A value is trying to be set on a copy of a slice from a DataFrame.\n",
      "Try using .loc[row_indexer,col_indexer] = value instead\n",
      "\n",
      "See the caveats in the documentation: https://pandas.pydata.org/pandas-docs/stable/user_guide/indexing.html#returning-a-view-versus-a-copy\n",
      "  self.obj[key] = infer_fill_value(value)\n",
      "C:\\Users\\kusha\\anaconda3\\lib\\site-packages\\pandas\\core\\indexing.py:1817: SettingWithCopyWarning: \n",
      "A value is trying to be set on a copy of a slice from a DataFrame.\n",
      "Try using .loc[row_indexer,col_indexer] = value instead\n",
      "\n",
      "See the caveats in the documentation: https://pandas.pydata.org/pandas-docs/stable/user_guide/indexing.html#returning-a-view-versus-a-copy\n",
      "  self._setitem_single_column(loc, value, pi)\n"
     ]
    }
   ],
   "source": [
    "from collections import defaultdict\n",
    "\n",
    "# Assuming df is your dataframe\n",
    "scoring_hashmap = defaultdict(int)\n",
    "conceding_hashmap = defaultdict(int)\n",
    "\n",
    "# Iterating through each row in the dataframe\n",
    "for index, row in filtered_data.iterrows():\n",
    "    filtered_data.at[index, 'home_team_total_runs_scored'] = scoring_hashmap[row['home_team']]\n",
    "    scoring_hashmap[row['home_team']] += row['home_score']\n",
    "    filtered_data.at[index, 'away_team_total_runs_scored'] = scoring_hashmap[row['away_team']]\n",
    "    scoring_hashmap[row['away_team']] += row['away_score']\n",
    "    filtered_data.at[index, 'home_team_total_runs_conceded'] = conceding_hashmap[row['home_team']]\n",
    "    conceding_hashmap[row['home_team']] += row['away_score']\n",
    "    filtered_data.at[index, 'away_team_total_runs_conceded'] = conceding_hashmap[row['away_team']]\n",
    "    conceding_hashmap[row['away_team']] += row['home_score']"
   ]
  },
  {
   "cell_type": "code",
   "execution_count": 11,
   "id": "af7d8191",
   "metadata": {},
   "outputs": [],
   "source": [
    "post_scoring_hashmap = defaultdict(int)\n",
    "post_conceding_hashmap = defaultdict(int)\n",
    "\n",
    "# Iterating through each row in the dataframe\n",
    "for index, row in filtered_data.iterrows():\n",
    "    post_scoring_hashmap[row['home_team']] += row['home_score']\n",
    "    filtered_data.at[index, 'home_team_total_runs_scored_post'] = post_scoring_hashmap[row['home_team']]\n",
    "    post_scoring_hashmap[row['away_team']] += row['away_score']\n",
    "    filtered_data.at[index, 'away_team_total_runs_scored_post'] = post_scoring_hashmap[row['away_team']]\n",
    "    post_conceding_hashmap[row['home_team']] += row['away_score']\n",
    "    filtered_data.at[index, 'home_team_total_runs_conceded_post'] = post_conceding_hashmap[row['home_team']]\n",
    "    post_conceding_hashmap[row['away_team']] += row['home_score']\n",
    "    filtered_data.at[index, 'away_team_total_runs_conceded_post'] = post_conceding_hashmap[row['away_team']]\n",
    "    "
   ]
  },
  {
   "cell_type": "code",
   "execution_count": 12,
   "id": "237251bf",
   "metadata": {},
   "outputs": [
    {
     "name": "stdout",
     "output_type": "stream",
     "text": [
      "      game_date home_team away_team  home_score  away_score  \\\n",
      "0      20000329       NYN       CHN           3           5   \n",
      "1      20000330       CHN       NYN           1           5   \n",
      "2      20000403       ATL       COL           2           0   \n",
      "3      20000403       CIN       MIL           3           3   \n",
      "4      20000403       FLO       SFN           6           4   \n",
      "...         ...       ...       ...         ...         ...   \n",
      "2424   20001001       CHA       KCA           2           6   \n",
      "2425   20001001       CLE       TOR          11           4   \n",
      "2426   20001001       DET       MIN          12          11   \n",
      "2427   20001001       OAK       TEX           3           0   \n",
      "2428   20001001       TBA       BOS           3           2   \n",
      "\n",
      "      home_team_total_runs_scored  away_team_total_runs_scored  \\\n",
      "0                             0.0                          0.0   \n",
      "1                             5.0                          3.0   \n",
      "2                             0.0                          0.0   \n",
      "3                             0.0                          0.0   \n",
      "4                             0.0                          0.0   \n",
      "...                           ...                          ...   \n",
      "2424                        976.0                        873.0   \n",
      "2425                        939.0                        857.0   \n",
      "2426                        811.0                        737.0   \n",
      "2427                        944.0                        848.0   \n",
      "2428                        730.0                        790.0   \n",
      "\n",
      "      home_team_total_runs_conceded  away_team_total_runs_conceded  \\\n",
      "0                               0.0                            0.0   \n",
      "1                               3.0                            5.0   \n",
      "2                               0.0                            0.0   \n",
      "3                               0.0                            0.0   \n",
      "4                               0.0                            0.0   \n",
      "...                             ...                            ...   \n",
      "2424                          833.0                          928.0   \n",
      "2425                          812.0                          897.0   \n",
      "2426                          816.0                          868.0   \n",
      "2427                          813.0                          971.0   \n",
      "2428                          840.0                          742.0   \n",
      "\n",
      "      home_team_total_runs_scored_post  away_team_total_runs_scored_post  \\\n",
      "0                                  3.0                               5.0   \n",
      "1                                  6.0                               8.0   \n",
      "2                                  2.0                               0.0   \n",
      "3                                  3.0                               3.0   \n",
      "4                                  6.0                               4.0   \n",
      "...                                ...                               ...   \n",
      "2424                             978.0                             879.0   \n",
      "2425                             950.0                             861.0   \n",
      "2426                             823.0                             748.0   \n",
      "2427                             947.0                             848.0   \n",
      "2428                             733.0                             792.0   \n",
      "\n",
      "      home_team_total_runs_conceded_post  away_team_total_runs_conceded_post  \n",
      "0                                    5.0                                 3.0  \n",
      "1                                    8.0                                 6.0  \n",
      "2                                    0.0                                 2.0  \n",
      "3                                    3.0                                 3.0  \n",
      "4                                    4.0                                 6.0  \n",
      "...                                  ...                                 ...  \n",
      "2424                               839.0                               930.0  \n",
      "2425                               816.0                               908.0  \n",
      "2426                               827.0                               880.0  \n",
      "2427                               813.0                               974.0  \n",
      "2428                               842.0                               745.0  \n",
      "\n",
      "[2429 rows x 13 columns]\n"
     ]
    }
   ],
   "source": [
    "print(filtered_data)"
   ]
  },
  {
   "cell_type": "code",
   "execution_count": 13,
   "id": "7433db1d",
   "metadata": {},
   "outputs": [
    {
     "name": "stderr",
     "output_type": "stream",
     "text": [
      "C:\\Users\\kusha\\anaconda3\\lib\\site-packages\\pandas\\core\\indexing.py:1684: SettingWithCopyWarning: \n",
      "A value is trying to be set on a copy of a slice from a DataFrame.\n",
      "Try using .loc[row_indexer,col_indexer] = value instead\n",
      "\n",
      "See the caveats in the documentation: https://pandas.pydata.org/pandas-docs/stable/user_guide/indexing.html#returning-a-view-versus-a-copy\n",
      "  self.obj[key] = infer_fill_value(value)\n",
      "C:\\Users\\kusha\\anaconda3\\lib\\site-packages\\pandas\\core\\indexing.py:1817: SettingWithCopyWarning: \n",
      "A value is trying to be set on a copy of a slice from a DataFrame.\n",
      "Try using .loc[row_indexer,col_indexer] = value instead\n",
      "\n",
      "See the caveats in the documentation: https://pandas.pydata.org/pandas-docs/stable/user_guide/indexing.html#returning-a-view-versus-a-copy\n",
      "  self._setitem_single_column(loc, value, pi)\n"
     ]
    },
    {
     "ename": "KeyError",
     "evalue": "'away_EWP'",
     "output_type": "error",
     "traceback": [
      "\u001b[1;31m---------------------------------------------------------------------------\u001b[0m",
      "\u001b[1;31mKeyError\u001b[0m                                  Traceback (most recent call last)",
      "File \u001b[1;32m~\\anaconda3\\lib\\site-packages\\pandas\\core\\indexes\\base.py:3361\u001b[0m, in \u001b[0;36mIndex.get_loc\u001b[1;34m(self, key, method, tolerance)\u001b[0m\n\u001b[0;32m   3360\u001b[0m \u001b[38;5;28;01mtry\u001b[39;00m:\n\u001b[1;32m-> 3361\u001b[0m     \u001b[38;5;28;01mreturn\u001b[39;00m \u001b[38;5;28;43mself\u001b[39;49m\u001b[38;5;241;43m.\u001b[39;49m\u001b[43m_engine\u001b[49m\u001b[38;5;241;43m.\u001b[39;49m\u001b[43mget_loc\u001b[49m\u001b[43m(\u001b[49m\u001b[43mcasted_key\u001b[49m\u001b[43m)\u001b[49m\n\u001b[0;32m   3362\u001b[0m \u001b[38;5;28;01mexcept\u001b[39;00m \u001b[38;5;167;01mKeyError\u001b[39;00m \u001b[38;5;28;01mas\u001b[39;00m err:\n",
      "File \u001b[1;32m~\\anaconda3\\lib\\site-packages\\pandas\\_libs\\index.pyx:76\u001b[0m, in \u001b[0;36mpandas._libs.index.IndexEngine.get_loc\u001b[1;34m()\u001b[0m\n",
      "File \u001b[1;32m~\\anaconda3\\lib\\site-packages\\pandas\\_libs\\index.pyx:108\u001b[0m, in \u001b[0;36mpandas._libs.index.IndexEngine.get_loc\u001b[1;34m()\u001b[0m\n",
      "File \u001b[1;32mpandas\\_libs\\hashtable_class_helper.pxi:5198\u001b[0m, in \u001b[0;36mpandas._libs.hashtable.PyObjectHashTable.get_item\u001b[1;34m()\u001b[0m\n",
      "File \u001b[1;32mpandas\\_libs\\hashtable_class_helper.pxi:5206\u001b[0m, in \u001b[0;36mpandas._libs.hashtable.PyObjectHashTable.get_item\u001b[1;34m()\u001b[0m\n",
      "\u001b[1;31mKeyError\u001b[0m: 'away_EWP'",
      "\nThe above exception was the direct cause of the following exception:\n",
      "\u001b[1;31mKeyError\u001b[0m                                  Traceback (most recent call last)",
      "Cell \u001b[1;32mIn[13], line 16\u001b[0m\n\u001b[0;32m     13\u001b[0m \u001b[38;5;28;01melse\u001b[39;00m:\n\u001b[0;32m     14\u001b[0m     filtered_data\u001b[38;5;241m.\u001b[39mat[index, \u001b[38;5;124m'\u001b[39m\u001b[38;5;124maway_EWP\u001b[39m\u001b[38;5;124m'\u001b[39m] \u001b[38;5;241m=\u001b[39m ars\u001b[38;5;241m*\u001b[39m\u001b[38;5;241m*\u001b[39m\u001b[38;5;241m2\u001b[39m\u001b[38;5;241m/\u001b[39m(ars\u001b[38;5;241m*\u001b[39m\u001b[38;5;241m*\u001b[39m\u001b[38;5;241m2\u001b[39m \u001b[38;5;241m+\u001b[39m arc\u001b[38;5;241m*\u001b[39m\u001b[38;5;241m*\u001b[39m\u001b[38;5;241m2\u001b[39m)\n\u001b[1;32m---> 16\u001b[0m \u001b[38;5;28;01mif\u001b[39;00m \u001b[43mrow\u001b[49m\u001b[43m[\u001b[49m\u001b[38;5;124;43m'\u001b[39;49m\u001b[38;5;124;43maway_EWP\u001b[39;49m\u001b[38;5;124;43m'\u001b[39;49m\u001b[43m]\u001b[49m \u001b[38;5;241m==\u001b[39m \u001b[38;5;241m0\u001b[39m:\n\u001b[0;32m     17\u001b[0m     filtered_data\u001b[38;5;241m.\u001b[39mat[index, \u001b[38;5;124m'\u001b[39m\u001b[38;5;124mrel_home_EWP\u001b[39m\u001b[38;5;124m'\u001b[39m] \u001b[38;5;241m=\u001b[39m \u001b[38;5;241m0\u001b[39m\n\u001b[0;32m     18\u001b[0m \u001b[38;5;28;01melse\u001b[39;00m:\n",
      "File \u001b[1;32m~\\anaconda3\\lib\\site-packages\\pandas\\core\\series.py:942\u001b[0m, in \u001b[0;36mSeries.__getitem__\u001b[1;34m(self, key)\u001b[0m\n\u001b[0;32m    939\u001b[0m     \u001b[38;5;28;01mreturn\u001b[39;00m \u001b[38;5;28mself\u001b[39m\u001b[38;5;241m.\u001b[39m_values[key]\n\u001b[0;32m    941\u001b[0m \u001b[38;5;28;01melif\u001b[39;00m key_is_scalar:\n\u001b[1;32m--> 942\u001b[0m     \u001b[38;5;28;01mreturn\u001b[39;00m \u001b[38;5;28;43mself\u001b[39;49m\u001b[38;5;241;43m.\u001b[39;49m\u001b[43m_get_value\u001b[49m\u001b[43m(\u001b[49m\u001b[43mkey\u001b[49m\u001b[43m)\u001b[49m\n\u001b[0;32m    944\u001b[0m \u001b[38;5;28;01mif\u001b[39;00m is_hashable(key):\n\u001b[0;32m    945\u001b[0m     \u001b[38;5;66;03m# Otherwise index.get_value will raise InvalidIndexError\u001b[39;00m\n\u001b[0;32m    946\u001b[0m     \u001b[38;5;28;01mtry\u001b[39;00m:\n\u001b[0;32m    947\u001b[0m         \u001b[38;5;66;03m# For labels that don't resolve as scalars like tuples and frozensets\u001b[39;00m\n",
      "File \u001b[1;32m~\\anaconda3\\lib\\site-packages\\pandas\\core\\series.py:1051\u001b[0m, in \u001b[0;36mSeries._get_value\u001b[1;34m(self, label, takeable)\u001b[0m\n\u001b[0;32m   1048\u001b[0m     \u001b[38;5;28;01mreturn\u001b[39;00m \u001b[38;5;28mself\u001b[39m\u001b[38;5;241m.\u001b[39m_values[label]\n\u001b[0;32m   1050\u001b[0m \u001b[38;5;66;03m# Similar to Index.get_value, but we do not fall back to positional\u001b[39;00m\n\u001b[1;32m-> 1051\u001b[0m loc \u001b[38;5;241m=\u001b[39m \u001b[38;5;28;43mself\u001b[39;49m\u001b[38;5;241;43m.\u001b[39;49m\u001b[43mindex\u001b[49m\u001b[38;5;241;43m.\u001b[39;49m\u001b[43mget_loc\u001b[49m\u001b[43m(\u001b[49m\u001b[43mlabel\u001b[49m\u001b[43m)\u001b[49m\n\u001b[0;32m   1052\u001b[0m \u001b[38;5;28;01mreturn\u001b[39;00m \u001b[38;5;28mself\u001b[39m\u001b[38;5;241m.\u001b[39mindex\u001b[38;5;241m.\u001b[39m_get_values_for_loc(\u001b[38;5;28mself\u001b[39m, loc, label)\n",
      "File \u001b[1;32m~\\anaconda3\\lib\\site-packages\\pandas\\core\\indexes\\base.py:3363\u001b[0m, in \u001b[0;36mIndex.get_loc\u001b[1;34m(self, key, method, tolerance)\u001b[0m\n\u001b[0;32m   3361\u001b[0m         \u001b[38;5;28;01mreturn\u001b[39;00m \u001b[38;5;28mself\u001b[39m\u001b[38;5;241m.\u001b[39m_engine\u001b[38;5;241m.\u001b[39mget_loc(casted_key)\n\u001b[0;32m   3362\u001b[0m     \u001b[38;5;28;01mexcept\u001b[39;00m \u001b[38;5;167;01mKeyError\u001b[39;00m \u001b[38;5;28;01mas\u001b[39;00m err:\n\u001b[1;32m-> 3363\u001b[0m         \u001b[38;5;28;01mraise\u001b[39;00m \u001b[38;5;167;01mKeyError\u001b[39;00m(key) \u001b[38;5;28;01mfrom\u001b[39;00m \u001b[38;5;21;01merr\u001b[39;00m\n\u001b[0;32m   3365\u001b[0m \u001b[38;5;28;01mif\u001b[39;00m is_scalar(key) \u001b[38;5;129;01mand\u001b[39;00m isna(key) \u001b[38;5;129;01mand\u001b[39;00m \u001b[38;5;129;01mnot\u001b[39;00m \u001b[38;5;28mself\u001b[39m\u001b[38;5;241m.\u001b[39mhasnans:\n\u001b[0;32m   3366\u001b[0m     \u001b[38;5;28;01mraise\u001b[39;00m \u001b[38;5;167;01mKeyError\u001b[39;00m(key)\n",
      "\u001b[1;31mKeyError\u001b[0m: 'away_EWP'"
     ]
    }
   ],
   "source": [
    "for index, row in filtered_data.iterrows():\n",
    "    hrs = row['home_team_total_runs_scored']\n",
    "    hrc = row['home_team_total_runs_conceded']\n",
    "    ars = row['away_team_total_runs_scored']\n",
    "    arc = row['away_team_total_runs_conceded']\n",
    "    \n",
    "    if (hrs**2 + hrc**2) == 0:\n",
    "        filtered_data.at[index, 'home_EWP'] = 0\n",
    "    else:\n",
    "        filtered_data.at[index, 'home_EWP'] = hrs**2/(hrs**2 + hrc**2)\n",
    "    if (ars**2 + arc**2) == 0:\n",
    "        filtered_data.at[index, 'away_EWP'] = 0\n",
    "    else:\n",
    "        filtered_data.at[index, 'away_EWP'] = ars**2/(ars**2 + arc**2)\n",
    "        \n",
    "    if row['away_EWP'] == 0:\n",
    "        filtered_data.at[index, 'rel_home_EWP'] = 0\n",
    "    else:\n",
    "        filtered_data.at[index, 'rel_home_EWP'] = row['home_EWP']/row['away_EWP']\n",
    "    if row['home_EWP'] == 0:\n",
    "        filtered_data.at[index, 'rel_away_EWP'] = 0\n",
    "    else:\n",
    "        filtered_data.at[index, 'rel_away_EWP'] = row['away_EWP']/row['home_EWP']\n",
    "    \n",
    "    "
   ]
  },
  {
   "cell_type": "code",
   "execution_count": null,
   "id": "2935ec46",
   "metadata": {},
   "outputs": [],
   "source": [
    "for index, row in filtered_data.iterrows():\n",
    "    hrsp = row['home_team_total_runs_scored_post']\n",
    "    hrcp = row['home_team_total_runs_conceded_post']\n",
    "    arsp = row['away_team_total_runs_scored_post']\n",
    "    arcp = row['away_team_total_runs_conceded_post']\n",
    "    \n",
    "    if (hrsp**2 + hrcp**2) == 0:\n",
    "        filtered_data.at[index, 'home_EWP_post'] = 0\n",
    "    else:\n",
    "        filtered_data.at[index, 'home_EWP_post'] = hrsp**2/(hrsp**2 + hrcp**2)\n",
    "    if (arsp**2 + arcp**2) == 0:\n",
    "        filtered_data.at[index, 'away_EWP_post'] = 0\n",
    "    else:\n",
    "        filtered_data.at[index, 'away_EWP_post'] = arsp**2/(arsp**2 + arcp**2)\n",
    "        \n",
    "    if row['away_EWP_post'] == 0:\n",
    "        filtered_data.at[index, 'rel_home_EWP_post'] = 0\n",
    "    else:\n",
    "        filtered_data.at[index, 'rel_home_EWP_post'] = row['home_EWP_post']/row['away_EWP_post']\n",
    "    if row['home_EWP_post'] == 0:\n",
    "        filtered_data.at[index, 'rel_away_EWP_post'] = 0\n",
    "    else:\n",
    "        filtered_data.at[index, 'rel_away_EWP_post'] = row['away_EWP_post']/row['home_EWP_post']"
   ]
  },
  {
   "cell_type": "code",
   "execution_count": null,
   "id": "e5239e04",
   "metadata": {},
   "outputs": [],
   "source": [
    "print(filtered_data)"
   ]
  },
  {
   "cell_type": "code",
   "execution_count": null,
   "id": "36ec504d",
   "metadata": {},
   "outputs": [],
   "source": [
    "for index, row in filtered_data.iterrows():\n",
    "    rhewp = row['rel_home_EWP']\n",
    "    rhewpp = row['rel_home_EWP_post']\n",
    "    raewp = row['rel_away_EWP']\n",
    "    raewpp = row['rel_away_EWP_post']\n",
    "    \n",
    "    filtered_data.at[index,'diff_rel_home_EWP'] = rhewpp - rhewp\n",
    "    filtered_data.at[index,'diff_rel_away_EWP'] = raewpp - raewp"
   ]
  },
  {
   "cell_type": "code",
   "execution_count": null,
   "id": "a6a9b825",
   "metadata": {},
   "outputs": [],
   "source": []
  }
 ],
 "metadata": {
  "kernelspec": {
   "display_name": "Python 3 (ipykernel)",
   "language": "python",
   "name": "python3"
  },
  "language_info": {
   "codemirror_mode": {
    "name": "ipython",
    "version": 3
   },
   "file_extension": ".py",
   "mimetype": "text/x-python",
   "name": "python",
   "nbconvert_exporter": "python",
   "pygments_lexer": "ipython3",
   "version": "3.9.18"
  }
 },
 "nbformat": 4,
 "nbformat_minor": 5
}
