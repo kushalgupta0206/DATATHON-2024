{
 "cells": [
  {
   "cell_type": "code",
   "execution_count": 5,
   "id": "7ad7b118",
   "metadata": {},
   "outputs": [],
   "source": [
    "import pandas as pd\n",
    "import matplotlib.pyplot as plt\n",
    "import numpy as np\n",
    "import math \n",
    "from collections import defaultdict"
   ]
  },
  {
   "cell_type": "code",
   "execution_count": 6,
   "id": "4572996b",
   "metadata": {},
   "outputs": [],
   "source": [
    "complete_data = pd.read_csv(\"datathon_2024_dataset.csv\")"
   ]
  },
  {
   "cell_type": "code",
   "execution_count": 7,
   "id": "e62a8fcc",
   "metadata": {},
   "outputs": [],
   "source": [
    "complete_data = complete_data[['game_date','home_team','away_team','city']]"
   ]
  },
  {
   "cell_type": "code",
   "execution_count": 8,
   "id": "9614239e",
   "metadata": {},
   "outputs": [],
   "source": [
    "from geopy.geocoders import Nominatim\n",
    "from geopy.distance import geodesic\n",
    "geolocator = Nominatim(user_agent=\"MyGeocoder/1.0.0 (kig3@rice.edu)\",timeout=100)\n",
    "\n",
    "location_dataset = []\n",
    "unique_values = complete_data['city'].unique()\n",
    "\n",
    "for city in unique_values:\n",
    "    loc = geolocator.geocode(city)\n",
    "    \n",
    "    # Check if location is found before accessing latitude and longitude\n",
    "    if loc:\n",
    "        location_data = {\n",
    "            'city': city,\n",
    "            'latitude': loc.latitude,\n",
    "            'longitude': loc.longitude\n",
    "        }\n",
    "        location_dataset.append(location_data)\n",
    "location_dataset = pd.DataFrame(location_dataset)"
   ]
  },
  {
   "cell_type": "code",
   "execution_count": 9,
   "id": "36547bd4",
   "metadata": {},
   "outputs": [],
   "source": [
    "final_data = []"
   ]
  },
  {
   "cell_type": "code",
   "execution_count": 10,
   "id": "ce5f5f83",
   "metadata": {},
   "outputs": [
    {
     "name": "stderr",
     "output_type": "stream",
     "text": [
      "C:\\Users\\kusha\\AppData\\Local\\Temp\\ipykernel_23068\\3608874014.py:5: SettingWithCopyWarning: \n",
      "A value is trying to be set on a copy of a slice from a DataFrame.\n",
      "Try using .loc[row_indexer,col_indexer] = value instead\n",
      "\n",
      "See the caveats in the documentation: https://pandas.pydata.org/pandas-docs/stable/user_guide/indexing.html#returning-a-view-versus-a-copy\n",
      "  data['game_date'] = pd.to_datetime(data['game_date'], format='%Y%m%d')\n",
      "C:\\Users\\kusha\\anaconda3\\lib\\site-packages\\pandas\\core\\indexing.py:1684: SettingWithCopyWarning: \n",
      "A value is trying to be set on a copy of a slice from a DataFrame.\n",
      "Try using .loc[row_indexer,col_indexer] = value instead\n",
      "\n",
      "See the caveats in the documentation: https://pandas.pydata.org/pandas-docs/stable/user_guide/indexing.html#returning-a-view-versus-a-copy\n",
      "  self.obj[key] = infer_fill_value(value)\n",
      "C:\\Users\\kusha\\anaconda3\\lib\\site-packages\\pandas\\core\\indexing.py:1817: SettingWithCopyWarning: \n",
      "A value is trying to be set on a copy of a slice from a DataFrame.\n",
      "Try using .loc[row_indexer,col_indexer] = value instead\n",
      "\n",
      "See the caveats in the documentation: https://pandas.pydata.org/pandas-docs/stable/user_guide/indexing.html#returning-a-view-versus-a-copy\n",
      "  self._setitem_single_column(loc, value, pi)\n"
     ]
    }
   ],
   "source": [
    "complete_data['game_date'] = complete_data['game_date'].astype(str)\n",
    "for i in range(2000,2024):\n",
    "    year = str(i)\n",
    "    data = complete_data[complete_data['game_date'].str[:4] == year]\n",
    "    data['game_date'] = pd.to_datetime(data['game_date'], format='%Y%m%d')\n",
    "    distance_map = defaultdict(list)\n",
    "    for index, row in data.iterrows():\n",
    "        curr_location = location_dataset.loc[location_dataset['city'] == row['city']].iloc[0]\n",
    "        if len(distance_map[row['home_team']]) == 0:\n",
    "            data.at[index, 'distance_from_last_location_home_team'] = 0\n",
    "        else:\n",
    "            data.at[index, 'distance_from_last_location_home_team'] = geodesic((curr_location['latitude'], curr_location['longitude']), \n",
    "                                                                           (distance_map[row['home_team']][0], distance_map[row['home_team']][1])).km\n",
    "        distance_map[row['home_team']].append(curr_location['latitude'])  \n",
    "        distance_map[row['home_team']].append(curr_location['longitude'])\n",
    "    \n",
    "        if len(distance_map[row['away_team']]) == 0:\n",
    "            data.at[index, 'distance_from_last_location_away_team'] = 0\n",
    "        else:\n",
    "            data.at[index, 'distance_from_last_location_away_team'] = geodesic((curr_location['latitude'], curr_location['longitude']), \n",
    "                                                                           (distance_map[row['away_team']][0], distance_map[row['away_team']][1])).km\n",
    "        distance_map[row['away_team']].append(curr_location['latitude'])  \n",
    "        distance_map[row['away_team']].append(curr_location['longitude'])\n",
    "    final_data.append(data)\n",
    "final_df = pd.concat(final_data, ignore_index=True) "
   ]
  },
  {
   "cell_type": "code",
   "execution_count": 11,
   "id": "3485b46d",
   "metadata": {},
   "outputs": [
    {
     "name": "stdout",
     "output_type": "stream",
     "text": [
      "       game_date home_team away_team         city  \\\n",
      "0     2000-03-29       NYN       CHN        Tokyo   \n",
      "1     2000-03-30       CHN       NYN        Tokyo   \n",
      "2     2000-04-03       ATL       COL      Atlanta   \n",
      "3     2000-04-03       CIN       MIL   Cincinnati   \n",
      "4     2000-04-03       FLO       SFN        Miami   \n",
      "...          ...       ...       ...          ...   \n",
      "56770 2023-10-01       CHA       SDN      Chicago   \n",
      "56771 2023-10-01       DET       CLE      Detroit   \n",
      "56772 2023-10-01       KCA       NYA  Kansas City   \n",
      "56773 2023-10-01       SEA       TEX      Seattle   \n",
      "56774 2023-10-01       TOR       TBA      Toronto   \n",
      "\n",
      "       distance_from_last_location_home_team  \\\n",
      "0                                   0.000000   \n",
      "1                                   0.000000   \n",
      "2                                   0.000000   \n",
      "3                                   0.000000   \n",
      "4                                   0.000000   \n",
      "...                                      ...   \n",
      "56770                            1514.002430   \n",
      "56771                            7145.706218   \n",
      "56772                               0.000000   \n",
      "56773                               0.000000   \n",
      "56774                            1063.915851   \n",
      "\n",
      "       distance_from_last_location_away_team  \n",
      "0                                   0.000000  \n",
      "1                                   0.000000  \n",
      "2                                   0.000000  \n",
      "3                                   0.000000  \n",
      "4                                   0.000000  \n",
      "...                                      ...  \n",
      "56770                            2792.055377  \n",
      "56771                            3119.283117  \n",
      "56772                            1764.142439  \n",
      "56773                            2688.651747  \n",
      "56774                            6864.068151  \n",
      "\n",
      "[56775 rows x 6 columns]\n"
     ]
    }
   ],
   "source": [
    "print(final_df)"
   ]
  },
  {
   "cell_type": "code",
   "execution_count": 12,
   "id": "366c22ac",
   "metadata": {},
   "outputs": [],
   "source": [
    "final_df.to_csv('distance_covered_since_last_game.csv')"
   ]
  },
  {
   "cell_type": "code",
   "execution_count": null,
   "id": "440cf3bf",
   "metadata": {},
   "outputs": [],
   "source": []
  }
 ],
 "metadata": {
  "kernelspec": {
   "display_name": "Python 3 (ipykernel)",
   "language": "python",
   "name": "python3"
  },
  "language_info": {
   "codemirror_mode": {
    "name": "ipython",
    "version": 3
   },
   "file_extension": ".py",
   "mimetype": "text/x-python",
   "name": "python",
   "nbconvert_exporter": "python",
   "pygments_lexer": "ipython3",
   "version": "3.9.18"
  }
 },
 "nbformat": 4,
 "nbformat_minor": 5
}
