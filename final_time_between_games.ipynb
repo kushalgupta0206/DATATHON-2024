{
 "cells": [
  {
   "cell_type": "code",
   "execution_count": 8,
   "id": "23d47e6e",
   "metadata": {},
   "outputs": [],
   "source": [
    "import pandas as pd\n",
    "import matplotlib.pyplot as plt\n",
    "import numpy as np\n",
    "import math \n",
    "from collections import defaultdict"
   ]
  },
  {
   "cell_type": "code",
   "execution_count": 9,
   "id": "910adb54",
   "metadata": {},
   "outputs": [],
   "source": [
    "complete_data = pd.read_csv(\"datathon_2024_dataset.csv\")"
   ]
  },
  {
   "cell_type": "code",
   "execution_count": 10,
   "id": "ac39eef1",
   "metadata": {},
   "outputs": [],
   "source": [
    "complete_data = complete_data[['game_date','home_team','away_team']]"
   ]
  },
  {
   "cell_type": "code",
   "execution_count": 11,
   "id": "41b1b494",
   "metadata": {},
   "outputs": [],
   "source": [
    "final_data = []"
   ]
  },
  {
   "cell_type": "code",
   "execution_count": 12,
   "id": "cdf21e84",
   "metadata": {},
   "outputs": [
    {
     "name": "stderr",
     "output_type": "stream",
     "text": [
      "C:\\Users\\kusha\\AppData\\Local\\Temp\\ipykernel_38336\\4269047786.py:5: SettingWithCopyWarning: \n",
      "A value is trying to be set on a copy of a slice from a DataFrame.\n",
      "Try using .loc[row_indexer,col_indexer] = value instead\n",
      "\n",
      "See the caveats in the documentation: https://pandas.pydata.org/pandas-docs/stable/user_guide/indexing.html#returning-a-view-versus-a-copy\n",
      "  data['game_date'] = pd.to_datetime(data['game_date'], format='%Y%m%d')\n",
      "C:\\Users\\kusha\\anaconda3\\lib\\site-packages\\pandas\\core\\indexing.py:1684: SettingWithCopyWarning: \n",
      "A value is trying to be set on a copy of a slice from a DataFrame.\n",
      "Try using .loc[row_indexer,col_indexer] = value instead\n",
      "\n",
      "See the caveats in the documentation: https://pandas.pydata.org/pandas-docs/stable/user_guide/indexing.html#returning-a-view-versus-a-copy\n",
      "  self.obj[key] = infer_fill_value(value)\n",
      "C:\\Users\\kusha\\anaconda3\\lib\\site-packages\\pandas\\core\\indexing.py:1817: SettingWithCopyWarning: \n",
      "A value is trying to be set on a copy of a slice from a DataFrame.\n",
      "Try using .loc[row_indexer,col_indexer] = value instead\n",
      "\n",
      "See the caveats in the documentation: https://pandas.pydata.org/pandas-docs/stable/user_guide/indexing.html#returning-a-view-versus-a-copy\n",
      "  self._setitem_single_column(loc, value, pi)\n"
     ]
    }
   ],
   "source": [
    "complete_data['game_date'] = complete_data['game_date'].astype(str)\n",
    "for i in range(2000,2024):\n",
    "    year = str(i)\n",
    "    data = complete_data[complete_data['game_date'].str[:4] == year]\n",
    "    data['game_date'] = pd.to_datetime(data['game_date'], format='%Y%m%d')\n",
    "\n",
    "    days_map = defaultdict(int)\n",
    "    for index, row in data.iterrows():\n",
    "        if days_map[row['home_team']] == 0:\n",
    "            days_map[row['home_team']] = row['game_date']\n",
    "            data.at[index, 'tslg_home'] = 0\n",
    "        else:\n",
    "            timedelta = row['game_date'] - days_map[row['home_team']]\n",
    "            data.at[index, 'tslg_home'] = timedelta.days  # Use .days to get the number of days\n",
    "            days_map[row['home_team']] = row['game_date']\n",
    "        if days_map[row['away_team']] == 0:\n",
    "            days_map[row['away_team']] = row['game_date']\n",
    "            data.at[index, 'tslg_away'] = 0\n",
    "        else:\n",
    "            timedelta = row['game_date'] - days_map[row['away_team']]\n",
    "            data.at[index, 'tslg_away'] = timedelta.days  # Use .days to get the number of days\n",
    "            days_map[row['away_team']] = row['game_date']\n",
    "    final_data.append(data)"
   ]
  },
  {
   "cell_type": "code",
   "execution_count": 13,
   "id": "b105a1db",
   "metadata": {},
   "outputs": [],
   "source": [
    "final_df = pd.concat(final_data, ignore_index=True)"
   ]
  },
  {
   "cell_type": "code",
   "execution_count": 15,
   "id": "c03d957c",
   "metadata": {},
   "outputs": [
    {
     "name": "stdout",
     "output_type": "stream",
     "text": [
      "       game_date home_team away_team  tslg_home  tslg_away\n",
      "0     2000-03-29       NYN       CHN        0.0        0.0\n",
      "1     2000-03-30       CHN       NYN        1.0        1.0\n",
      "2     2000-04-03       ATL       COL        0.0        0.0\n",
      "3     2000-04-03       CIN       MIL        0.0        0.0\n",
      "4     2000-04-03       FLO       SFN        0.0        0.0\n",
      "...          ...       ...       ...        ...        ...\n",
      "56770 2023-10-01       CHA       SDN        1.0        1.0\n",
      "56771 2023-10-01       DET       CLE        1.0        1.0\n",
      "56772 2023-10-01       KCA       NYA        1.0        1.0\n",
      "56773 2023-10-01       SEA       TEX        1.0        1.0\n",
      "56774 2023-10-01       TOR       TBA        1.0        1.0\n",
      "\n",
      "[56775 rows x 5 columns]\n"
     ]
    }
   ],
   "source": [
    "print(final_df)"
   ]
  },
  {
   "cell_type": "code",
   "execution_count": 16,
   "id": "630adaa3",
   "metadata": {},
   "outputs": [],
   "source": [
    "final_df.to_csv('time_since_last_game_complete.csv')"
   ]
  },
  {
   "cell_type": "code",
   "execution_count": null,
   "id": "39b35049",
   "metadata": {},
   "outputs": [],
   "source": []
  }
 ],
 "metadata": {
  "kernelspec": {
   "display_name": "Python 3 (ipykernel)",
   "language": "python",
   "name": "python3"
  },
  "language_info": {
   "codemirror_mode": {
    "name": "ipython",
    "version": 3
   },
   "file_extension": ".py",
   "mimetype": "text/x-python",
   "name": "python",
   "nbconvert_exporter": "python",
   "pygments_lexer": "ipython3",
   "version": "3.9.18"
  }
 },
 "nbformat": 4,
 "nbformat_minor": 5
}
