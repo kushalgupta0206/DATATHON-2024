{
 "cells": [
  {
   "cell_type": "code",
   "execution_count": 7,
   "id": "68419cb8",
   "metadata": {},
   "outputs": [],
   "source": [
    "import pandas as pd\n",
    "import matplotlib.pyplot as plt\n",
    "import numpy as np\n",
    "import math\n",
    "from collections import defaultdict"
   ]
  },
  {
   "cell_type": "code",
   "execution_count": 8,
   "id": "42035d01",
   "metadata": {},
   "outputs": [],
   "source": [
    "complete_data = pd.read_csv(\"datathon_2024_dataset.csv\")"
   ]
  },
  {
   "cell_type": "code",
   "execution_count": 9,
   "id": "efebbe88",
   "metadata": {},
   "outputs": [],
   "source": [
    "complete_data = complete_data[['game_date','home_team','away_team','home_score','away_score']]"
   ]
  },
  {
   "cell_type": "code",
   "execution_count": 10,
   "id": "efd55459",
   "metadata": {},
   "outputs": [],
   "source": [
    "final_data = []"
   ]
  },
  {
   "cell_type": "code",
   "execution_count": 11,
   "id": "6dc4be9d",
   "metadata": {},
   "outputs": [
    {
     "name": "stderr",
     "output_type": "stream",
     "text": [
      "C:\\Users\\kusha\\AppData\\Local\\Temp\\ipykernel_12652\\822856438.py:5: SettingWithCopyWarning: \n",
      "A value is trying to be set on a copy of a slice from a DataFrame.\n",
      "Try using .loc[row_indexer,col_indexer] = value instead\n",
      "\n",
      "See the caveats in the documentation: https://pandas.pydata.org/pandas-docs/stable/user_guide/indexing.html#returning-a-view-versus-a-copy\n",
      "  filtered_data['game_date'] = pd.to_datetime(filtered_data['game_date'], format='%Y%m%d')\n",
      "C:\\Users\\kusha\\anaconda3\\lib\\site-packages\\pandas\\core\\indexing.py:1684: SettingWithCopyWarning: \n",
      "A value is trying to be set on a copy of a slice from a DataFrame.\n",
      "Try using .loc[row_indexer,col_indexer] = value instead\n",
      "\n",
      "See the caveats in the documentation: https://pandas.pydata.org/pandas-docs/stable/user_guide/indexing.html#returning-a-view-versus-a-copy\n",
      "  self.obj[key] = infer_fill_value(value)\n",
      "C:\\Users\\kusha\\anaconda3\\lib\\site-packages\\pandas\\core\\indexing.py:1817: SettingWithCopyWarning: \n",
      "A value is trying to be set on a copy of a slice from a DataFrame.\n",
      "Try using .loc[row_indexer,col_indexer] = value instead\n",
      "\n",
      "See the caveats in the documentation: https://pandas.pydata.org/pandas-docs/stable/user_guide/indexing.html#returning-a-view-versus-a-copy\n",
      "  self._setitem_single_column(loc, value, pi)\n"
     ]
    }
   ],
   "source": [
    "complete_data['game_date'] = complete_data['game_date'].astype(str)\n",
    "for i in range(2000,2024):\n",
    "    year = str(i)\n",
    "    filtered_data = complete_data[complete_data['game_date'].str[:4] == year]\n",
    "    filtered_data['game_date'] = pd.to_datetime(filtered_data['game_date'], format='%Y%m%d')\n",
    "    \n",
    "    scoring_hashmap = defaultdict(int)\n",
    "    conceding_hashmap = defaultdict(int)\n",
    "\n",
    "    for index, row in filtered_data.iterrows():\n",
    "        filtered_data.at[index, 'home_team_total_runs_scored'] = scoring_hashmap[row['home_team']]\n",
    "        scoring_hashmap[row['home_team']] += row['home_score']\n",
    "        filtered_data.at[index, 'away_team_total_runs_scored'] = scoring_hashmap[row['away_team']]\n",
    "        scoring_hashmap[row['away_team']] += row['away_score']\n",
    "        filtered_data.at[index, 'home_team_total_runs_conceded'] = conceding_hashmap[row['home_team']]\n",
    "        conceding_hashmap[row['home_team']] += row['away_score']\n",
    "        filtered_data.at[index, 'away_team_total_runs_conceded'] = conceding_hashmap[row['away_team']]\n",
    "        conceding_hashmap[row['away_team']] += row['home_score']\n",
    "        \n",
    "    post_scoring_hashmap = defaultdict(int)\n",
    "    post_conceding_hashmap = defaultdict(int)\n",
    "\n",
    "    for index, row in filtered_data.iterrows():\n",
    "        post_scoring_hashmap[row['home_team']] += row['home_score']\n",
    "        filtered_data.at[index, 'home_team_total_runs_scored_post'] = post_scoring_hashmap[row['home_team']]\n",
    "        post_scoring_hashmap[row['away_team']] += row['away_score']\n",
    "        filtered_data.at[index, 'away_team_total_runs_scored_post'] = post_scoring_hashmap[row['away_team']]\n",
    "        post_conceding_hashmap[row['home_team']] += row['away_score']\n",
    "        filtered_data.at[index, 'home_team_total_runs_conceded_post'] = post_conceding_hashmap[row['home_team']]\n",
    "        post_conceding_hashmap[row['away_team']] += row['home_score']\n",
    "        filtered_data.at[index, 'away_team_total_runs_conceded_post'] = post_conceding_hashmap[row['away_team']]\n",
    "        \n",
    "    final_data.append(filtered_data)\n",
    "final_df = pd.concat(final_data, ignore_index=True)"
   ]
  },
  {
   "cell_type": "code",
   "execution_count": 12,
   "id": "48774fff",
   "metadata": {},
   "outputs": [],
   "source": [
    "filtered_data = final_df"
   ]
  },
  {
   "cell_type": "code",
   "execution_count": 13,
   "id": "8cb732f9",
   "metadata": {},
   "outputs": [],
   "source": [
    "for index, row in filtered_data.iterrows():\n",
    "    hrs = row['home_team_total_runs_scored']\n",
    "    hrc = row['home_team_total_runs_conceded']\n",
    "    ars = row['away_team_total_runs_scored']\n",
    "    arc = row['away_team_total_runs_conceded']\n",
    "    \n",
    "    if (hrs**2 + hrc**2) == 0:\n",
    "        filtered_data.at[index, 'home_EWP'] = 0\n",
    "    else:\n",
    "        filtered_data.at[index, 'home_EWP'] = hrs**2/(hrs**2 + hrc**2)\n",
    "    if (ars**2 + arc**2) == 0:\n",
    "        filtered_data.at[index, 'away_EWP'] = 0\n",
    "    else:\n",
    "        filtered_data.at[index, 'away_EWP'] = ars**2/(ars**2 + arc**2)"
   ]
  },
  {
   "cell_type": "code",
   "execution_count": 14,
   "id": "4dbb8b2c",
   "metadata": {},
   "outputs": [],
   "source": [
    "for index, row in filtered_data.iterrows():\n",
    "    hrs = row['home_team_total_runs_scored']\n",
    "    hrc = row['home_team_total_runs_conceded']\n",
    "    ars = row['away_team_total_runs_scored']\n",
    "    arc = row['away_team_total_runs_conceded']\n",
    "    \n",
    "    if row['away_EWP'] == 0:\n",
    "        filtered_data.at[index, 'rel_home_EWP'] = 0\n",
    "    else:\n",
    "        filtered_data.at[index, 'rel_home_EWP'] = row['home_EWP']/row['away_EWP']\n",
    "    if row['home_EWP'] == 0:\n",
    "        filtered_data.at[index, 'rel_away_EWP'] = 0\n",
    "    else:\n",
    "        filtered_data.at[index, 'rel_away_EWP'] = row['away_EWP']/row['home_EWP']"
   ]
  },
  {
   "cell_type": "code",
   "execution_count": 15,
   "id": "f52a152a",
   "metadata": {},
   "outputs": [],
   "source": [
    "for index, row in filtered_data.iterrows():\n",
    "    hrsp = row['home_team_total_runs_scored_post']\n",
    "    hrcp = row['home_team_total_runs_conceded_post']\n",
    "    arsp = row['away_team_total_runs_scored_post']\n",
    "    arcp = row['away_team_total_runs_conceded_post']\n",
    "    \n",
    "    if (hrsp**2 + hrcp**2) == 0:\n",
    "        filtered_data.at[index, 'home_EWP_post'] = 0\n",
    "    else:\n",
    "        filtered_data.at[index, 'home_EWP_post'] = hrsp**2/(hrsp**2 + hrcp**2)\n",
    "    if (arsp**2 + arcp**2) == 0:\n",
    "        filtered_data.at[index, 'away_EWP_post'] = 0\n",
    "    else:\n",
    "        filtered_data.at[index, 'away_EWP_post'] = arsp**2/(arsp**2 + arcp**2)"
   ]
  },
  {
   "cell_type": "code",
   "execution_count": 16,
   "id": "fadcd913",
   "metadata": {},
   "outputs": [],
   "source": [
    "for index, row in filtered_data.iterrows():\n",
    "    hrsp = row['home_team_total_runs_scored_post']\n",
    "    hrcp = row['home_team_total_runs_conceded_post']\n",
    "    arsp = row['away_team_total_runs_scored_post']\n",
    "    arcp = row['away_team_total_runs_conceded_post']\n",
    "    if row['away_EWP_post'] == 0:\n",
    "        filtered_data.at[index, 'rel_home_EWP_post'] = 0\n",
    "    else:\n",
    "        filtered_data.at[index, 'rel_home_EWP_post'] = row['home_EWP_post']/row['away_EWP_post']\n",
    "    if row['home_EWP_post'] == 0:\n",
    "        filtered_data.at[index, 'rel_away_EWP_post'] = 0\n",
    "    else:\n",
    "        filtered_data.at[index, 'rel_away_EWP_post'] = row['away_EWP_post']/row['home_EWP_post']"
   ]
  },
  {
   "cell_type": "code",
   "execution_count": 17,
   "id": "3648bdc7",
   "metadata": {},
   "outputs": [],
   "source": [
    "for index, row in filtered_data.iterrows():\n",
    "    rhewp = row['rel_home_EWP']\n",
    "    rhewpp = row['rel_home_EWP_post']\n",
    "    raewp = row['rel_away_EWP']\n",
    "    raewpp = row['rel_away_EWP_post']\n",
    "    \n",
    "    filtered_data.at[index,'diff_rel_home_EWP'] = rhewpp - rhewp\n",
    "    filtered_data.at[index,'diff_rel_away_EWP'] = raewpp - raewp"
   ]
  },
  {
   "cell_type": "code",
   "execution_count": 18,
   "id": "5f038fc9",
   "metadata": {},
   "outputs": [
    {
     "name": "stdout",
     "output_type": "stream",
     "text": [
      "       game_date home_team away_team  home_score  away_score  \\\n",
      "0     2000-03-29       NYN       CHN           3           5   \n",
      "1     2000-03-30       CHN       NYN           1           5   \n",
      "2     2000-04-03       ATL       COL           2           0   \n",
      "3     2000-04-03       CIN       MIL           3           3   \n",
      "4     2000-04-03       FLO       SFN           6           4   \n",
      "...          ...       ...       ...         ...         ...   \n",
      "56770 2023-10-01       CHA       SDN           1           2   \n",
      "56771 2023-10-01       DET       CLE           5           2   \n",
      "56772 2023-10-01       KCA       NYA           5           2   \n",
      "56773 2023-10-01       SEA       TEX           1           0   \n",
      "56774 2023-10-01       TOR       TBA           8          12   \n",
      "\n",
      "       home_team_total_runs_scored  away_team_total_runs_scored  \\\n",
      "0                              0.0                          0.0   \n",
      "1                              5.0                          3.0   \n",
      "2                              0.0                          0.0   \n",
      "3                              0.0                          0.0   \n",
      "4                              0.0                          0.0   \n",
      "...                            ...                          ...   \n",
      "56770                        640.0                        750.0   \n",
      "56771                        656.0                        660.0   \n",
      "56772                        671.0                        671.0   \n",
      "56773                        757.0                        881.0   \n",
      "56774                        738.0                        848.0   \n",
      "\n",
      "       home_team_total_runs_conceded  away_team_total_runs_conceded  \\\n",
      "0                                0.0                            0.0   \n",
      "1                                3.0                            5.0   \n",
      "2                                0.0                            0.0   \n",
      "3                                0.0                            0.0   \n",
      "4                                0.0                            0.0   \n",
      "...                              ...                            ...   \n",
      "56770                          839.0                          647.0   \n",
      "56771                          738.0                          692.0   \n",
      "56772                          857.0                          693.0   \n",
      "56773                          659.0                          715.0   \n",
      "56774                          659.0                          657.0   \n",
      "\n",
      "       home_team_total_runs_scored_post  ...  home_EWP  away_EWP  \\\n",
      "0                                   3.0  ...  0.000000  0.000000   \n",
      "1                                   6.0  ...  0.735294  0.264706   \n",
      "2                                   2.0  ...  0.000000  0.000000   \n",
      "3                                   3.0  ...  0.000000  0.000000   \n",
      "4                                   6.0  ...  0.000000  0.000000   \n",
      "...                                 ...  ...       ...       ...   \n",
      "56770                             641.0  ...  0.367842  0.573331   \n",
      "56771                             661.0  ...  0.441379  0.476345   \n",
      "56772                             676.0  ...  0.380050  0.483875   \n",
      "56773                             758.0  ...  0.568879  0.602897   \n",
      "56774                             746.0  ...  0.556369  0.624899   \n",
      "\n",
      "       rel_home_EWP  rel_away_EWP  home_EWP_post  away_EWP_post  \\\n",
      "0          0.000000      0.000000       0.264706       0.735294   \n",
      "1          2.777778      0.360000       0.360000       0.640000   \n",
      "2          0.000000      0.000000       1.000000       0.000000   \n",
      "3          0.000000      0.000000       0.500000       0.500000   \n",
      "4          0.000000      0.000000       0.692308       0.307692   \n",
      "...             ...           ...            ...            ...   \n",
      "56770      0.641588      1.558633       0.367461       0.573878   \n",
      "56771      0.926597      1.079218       0.443790       0.474263   \n",
      "56772      0.785429      1.273189       0.382452       0.481771   \n",
      "56773      0.943576      1.059798       0.569527       0.602227   \n",
      "56774      0.890336      1.123172       0.552781       0.625812   \n",
      "\n",
      "       rel_home_EWP_post  rel_away_EWP_post  diff_rel_home_EWP  \\\n",
      "0               0.360000           2.777778           0.360000   \n",
      "1               0.562500           1.777778          -2.215278   \n",
      "2               0.000000           0.000000           0.000000   \n",
      "3               1.000000           1.000000           1.000000   \n",
      "4               2.250000           0.444444           2.250000   \n",
      "...                  ...                ...                ...   \n",
      "56770           0.640312           1.561738          -0.001276   \n",
      "56771           0.935748           1.068664           0.009151   \n",
      "56772           0.793847           1.259689           0.008418   \n",
      "56773           0.945700           1.057418           0.002124   \n",
      "56774           0.883302           1.132115          -0.007033   \n",
      "\n",
      "       diff_rel_away_EWP  \n",
      "0               2.777778  \n",
      "1               1.417778  \n",
      "2               0.000000  \n",
      "3               1.000000  \n",
      "4               0.444444  \n",
      "...                  ...  \n",
      "56770           0.003106  \n",
      "56771          -0.010554  \n",
      "56772          -0.013500  \n",
      "56773          -0.002380  \n",
      "56774           0.008943  \n",
      "\n",
      "[56775 rows x 23 columns]\n"
     ]
    }
   ],
   "source": [
    "print(filtered_data)"
   ]
  },
  {
   "cell_type": "code",
   "execution_count": 19,
   "id": "cdc2f9ba",
   "metadata": {},
   "outputs": [],
   "source": [
    "filtered_data.to_csv('performance_metric_final.csv')"
   ]
  },
  {
   "cell_type": "code",
   "execution_count": null,
   "id": "a0edb014",
   "metadata": {},
   "outputs": [],
   "source": []
  }
 ],
 "metadata": {
  "kernelspec": {
   "display_name": "Python 3 (ipykernel)",
   "language": "python",
   "name": "python3"
  },
  "language_info": {
   "codemirror_mode": {
    "name": "ipython",
    "version": 3
   },
   "file_extension": ".py",
   "mimetype": "text/x-python",
   "name": "python",
   "nbconvert_exporter": "python",
   "pygments_lexer": "ipython3",
   "version": "3.9.18"
  }
 },
 "nbformat": 4,
 "nbformat_minor": 5
}
