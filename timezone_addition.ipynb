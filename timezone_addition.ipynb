{
 "cells": [
  {
   "cell_type": "code",
   "execution_count": 49,
   "id": "1cbeeed0",
   "metadata": {},
   "outputs": [],
   "source": [
    "import pandas as pd\n",
    "import matplotlib.pyplot as plt\n",
    "import numpy as np\n",
    "import math \n",
    "from collections import defaultdict"
   ]
  },
  {
   "cell_type": "code",
   "execution_count": 50,
   "id": "b2df816a",
   "metadata": {},
   "outputs": [],
   "source": [
    "complete_data = pd.read_csv(\"datathon_2024_dataset.csv\")"
   ]
  },
  {
   "cell_type": "code",
   "execution_count": 51,
   "id": "d29028d3",
   "metadata": {},
   "outputs": [],
   "source": [
    "complete_data = complete_data[['game_date','home_team','away_team','city']]"
   ]
  },
  {
   "cell_type": "code",
   "execution_count": 38,
   "id": "2f1884cc",
   "metadata": {},
   "outputs": [],
   "source": [
    "import requests\n",
    "from pytz import timezone\n",
    "\n",
    "def get_timezone(latitude, longitude):\n",
    "    api_key = \"83ETYBRSZ5G1\"\n",
    "    url = f\"http://api.timezonedb.com/v2.1/get-time-zone?key=83ETYBRSZ5G1&format=json&by=position&lat={latitude}&lng={longitude}\"\n",
    "    response = requests.get(url,timeout = 100)\n",
    "    if response.status_code == 200:\n",
    "        timezone_data = response.json()\n",
    "        gmt_offset_seconds = timezone_data[\"gmtOffset\"]\n",
    "        gmt_offset_hours = gmt_offset_seconds / 3600  # Convert seconds to hours\n",
    "        #timezone_id = f\"Etc/GMT{int(gmt_offset_hours)}\"\n",
    "        #return timezone(timezone_id)\n",
    "        return gmt_offset_hours\n",
    "    else:\n",
    "        print(f\"Error: {response.status_code}\")\n",
    "        return None\n",
    "\n",
    "# Example usage\n",
    "#timezone_object = get_timezone(\"40.6\", \"-64.0\")  # Latitude and longitude for London\n",
    "#if timezone_object:\n",
    "    #print(timezone_object.zone)  # Output: Europe/London\n",
    "#print(timezone_object)"
   ]
  },
  {
   "cell_type": "code",
   "execution_count": 39,
   "id": "88619295",
   "metadata": {},
   "outputs": [],
   "source": [
    "from geopy.geocoders import Nominatim\n",
    "from geopy.distance import geodesic\n",
    "geolocator = Nominatim(user_agent=\"MyGeocoder/1.0.0 (kig3@rice.edu)\",timeout=100)\n",
    "\n",
    "location_dataset = []\n",
    "unique_values = data['city'].unique()\n",
    "\n",
    "for city in unique_values:\n",
    "    loc = geolocator.geocode(city)\n",
    "    \n",
    "    # Check if location is found before accessing latitude and longitude\n",
    "    if loc:\n",
    "        location_data = {\n",
    "            'city': city,\n",
    "            'latitude': loc.latitude,\n",
    "            'longitude': loc.longitude\n",
    "        }\n",
    "        location_dataset.append(location_data)\n",
    "location_dataset = pd.DataFrame(location_dataset)"
   ]
  },
  {
   "cell_type": "code",
   "execution_count": 40,
   "id": "6eb9f91c",
   "metadata": {},
   "outputs": [],
   "source": [
    "import time"
   ]
  },
  {
   "cell_type": "code",
   "execution_count": 46,
   "id": "853c2a7d",
   "metadata": {},
   "outputs": [
    {
     "name": "stdout",
     "output_type": "stream",
     "text": [
      "9.0\n",
      "-5.0\n",
      "-5.0\n",
      "-5.0\n",
      "-5.0\n",
      "-5.0\n",
      "-6.0\n",
      "-8.0\n",
      "-5.0\n",
      "-6.0\n",
      "-8.0\n",
      "-6.0\n",
      "-5.0\n",
      "-7.0\n",
      "-5.0\n",
      "-8.0\n",
      "-6.0\n",
      "-6.0\n",
      "3.0\n",
      "-6.0\n",
      "-7.0\n",
      "-6.0\n",
      "-5.0\n",
      "-8.0\n",
      "-8.0\n",
      "-5.0\n",
      "-5.0\n",
      "-8.0\n",
      "-5.0\n",
      "-4.0\n",
      "-5.0\n",
      "-5.0\n",
      "11.0\n",
      "-8.0\n",
      "-5.0\n",
      "-6.0\n",
      "-6.0\n",
      "0.0\n",
      "-6.0\n",
      "13.0\n",
      "-6.0\n",
      "                city   latitude   longitude  gmtOffset\n",
      "0              Tokyo  35.682194  139.762221        9.0\n",
      "1            Atlanta  33.748992  -84.390264       -5.0\n",
      "2         Cincinnati  39.101454  -84.512460       -5.0\n",
      "3              Miami  25.774173  -80.193620       -5.0\n",
      "4           Montreal  45.503182  -73.569806       -5.0\n",
      "5           New York  40.712728  -74.006015       -5.0\n",
      "6          St. Louis  38.628028  -90.191015       -6.0\n",
      "7            Anaheim  33.834752 -117.911732       -8.0\n",
      "8          Baltimore  39.290882  -76.610759       -5.0\n",
      "9        Minneapolis  44.977300  -93.265469       -6.0\n",
      "10           Oakland  37.804456 -122.271356       -8.0\n",
      "11         Arlington  32.735582  -97.107119       -6.0\n",
      "12           Toronto  43.653482  -79.383935       -5.0\n",
      "13           Phoenix  33.448437 -112.074141       -7.0\n",
      "14        Pittsburgh  40.441694  -79.990086       -5.0\n",
      "15           Seattle  47.603832 -122.330062       -8.0\n",
      "16           Houston  29.758938  -95.367697       -6.0\n",
      "17       Kansas City  39.100105  -94.578142       -6.0\n",
      "18    St. Petersburg  59.960674   30.158655        3.0\n",
      "19           Chicago  41.875562  -87.624421       -6.0\n",
      "20            Denver  39.739236 -104.984862       -7.0\n",
      "21         Milwaukee  43.034993  -87.922497       -6.0\n",
      "22      Philadelphia  39.952724  -75.163526       -5.0\n",
      "23         San Diego  32.717420 -117.162773       -8.0\n",
      "24     San Francisco  37.779026 -122.419906       -8.0\n",
      "25            Boston  42.355433  -71.060511       -5.0\n",
      "26           Detroit  42.331551  -83.046640       -5.0\n",
      "27       Los Angeles  34.053691 -118.242766       -8.0\n",
      "28         Cleveland  41.499657  -81.693677       -5.0\n",
      "29          San Juan  18.465299  -66.116666       -4.0\n",
      "30        Washington  38.895037  -77.036543       -5.0\n",
      "31  Lake Buena Vista  28.380350  -81.529758       -5.0\n",
      "32            Sydney -33.869844  151.208285       11.0\n",
      "33        Fort Bragg  39.453473 -123.814911       -8.0\n",
      "34      Williamsport  41.249329  -77.002767       -5.0\n",
      "35         Monterrey  25.680202 -100.315258       -6.0\n",
      "36             Omaha  41.258746  -95.938376       -6.0\n",
      "37            London  51.507446   -0.127765        0.0\n",
      "38           Buffalo  37.709767  -95.697482       -6.0\n",
      "39           Dunedin -45.874098  170.503576       13.0\n",
      "40        Dyersville  42.484460  -91.121106       -6.0\n"
     ]
    }
   ],
   "source": [
    "for idx,row in location_dataset.iterrows():\n",
    "    k = get_timezone(row['latitude'],row['longitude'])\n",
    "    print(k)\n",
    "    location_dataset.at[idx,'gmtOffset'] = k\n",
    "    time.sleep(2)\n",
    "print(location_dataset)"
   ]
  },
  {
   "cell_type": "code",
   "execution_count": 47,
   "id": "5014f91d",
   "metadata": {},
   "outputs": [],
   "source": [
    "location_dataset.to_csv(\"location_dataset.csv\")"
   ]
  },
  {
   "cell_type": "code",
   "execution_count": 53,
   "id": "740a8c89",
   "metadata": {},
   "outputs": [
    {
     "name": "stderr",
     "output_type": "stream",
     "text": [
      "C:\\Users\\kusha\\AppData\\Local\\Temp\\ipykernel_22048\\3979459707.py:6: SettingWithCopyWarning: \n",
      "A value is trying to be set on a copy of a slice from a DataFrame.\n",
      "Try using .loc[row_indexer,col_indexer] = value instead\n",
      "\n",
      "See the caveats in the documentation: https://pandas.pydata.org/pandas-docs/stable/user_guide/indexing.html#returning-a-view-versus-a-copy\n",
      "  data['game_date'] = pd.to_datetime(data['game_date'], format='%Y%m%d')\n",
      "C:\\Users\\kusha\\anaconda3\\lib\\site-packages\\pandas\\core\\indexing.py:1684: SettingWithCopyWarning: \n",
      "A value is trying to be set on a copy of a slice from a DataFrame.\n",
      "Try using .loc[row_indexer,col_indexer] = value instead\n",
      "\n",
      "See the caveats in the documentation: https://pandas.pydata.org/pandas-docs/stable/user_guide/indexing.html#returning-a-view-versus-a-copy\n",
      "  self.obj[key] = infer_fill_value(value)\n",
      "C:\\Users\\kusha\\anaconda3\\lib\\site-packages\\pandas\\core\\indexing.py:1817: SettingWithCopyWarning: \n",
      "A value is trying to be set on a copy of a slice from a DataFrame.\n",
      "Try using .loc[row_indexer,col_indexer] = value instead\n",
      "\n",
      "See the caveats in the documentation: https://pandas.pydata.org/pandas-docs/stable/user_guide/indexing.html#returning-a-view-versus-a-copy\n",
      "  self._setitem_single_column(loc, value, pi)\n"
     ]
    }
   ],
   "source": [
    "final_data = []\n",
    "complete_data['game_date'] = complete_data['game_date'].astype(str)\n",
    "for i in range(2000,2024):\n",
    "    year = str(i)\n",
    "    data = complete_data[complete_data['game_date'].str[:4] == year]\n",
    "    data['game_date'] = pd.to_datetime(data['game_date'], format='%Y%m%d')\n",
    "    timezone_map = defaultdict(int)\n",
    "    for index, row in data.iterrows():\n",
    "        curr_location = location_dataset.loc[location_dataset['city'] == row['city']].iloc[0]\n",
    "        curr_timezone = curr_location['gmtOffset']\n",
    "        if timezone_map[row['home_team']] == 0:\n",
    "            data.at[index, 'time_diff_from_last_location_home_team'] = 0\n",
    "        else:\n",
    "            data.at[index, 'time_diff_from_last_location_home_team'] = curr_timezone - timezone_map[row['home_team']] \n",
    "        timezone_map[row['home_team']] = curr_timezone\n",
    "\n",
    "        if timezone_map[row['away_team']] == 0:\n",
    "            data.at[index, 'time_diff_from_last_location_away_team'] = 0\n",
    "        else:\n",
    "            data.at[index, 'time_diff_from_last_location_away_team'] = curr_timezone - timezone_map[row['away_team']]\n",
    "        timezone_map[row['away_team']] = curr_timezone\n",
    "    final_data.append(data)\n",
    "final_df = pd.concat(final_data, ignore_index=True) "
   ]
  },
  {
   "cell_type": "code",
   "execution_count": 56,
   "id": "4fbbf3a3",
   "metadata": {},
   "outputs": [
    {
     "name": "stdout",
     "output_type": "stream",
     "text": [
      "    game_date home_team away_team        city  \\\n",
      "0  2000-03-29       NYN       CHN       Tokyo   \n",
      "1  2000-03-30       CHN       NYN       Tokyo   \n",
      "2  2000-04-03       ATL       COL     Atlanta   \n",
      "3  2000-04-03       CIN       MIL  Cincinnati   \n",
      "4  2000-04-03       FLO       SFN       Miami   \n",
      "..        ...       ...       ...         ...   \n",
      "70 2000-04-08       CIN       CHN  Cincinnati   \n",
      "71 2000-04-08       FLO       COL       Miami   \n",
      "72 2000-04-08       HOU       PHI     Houston   \n",
      "73 2000-04-08       MON       SDN    Montreal   \n",
      "74 2000-04-08       NYN       LAN    New York   \n",
      "\n",
      "    time_diff_from_last_location_home_team  \\\n",
      "0                                      0.0   \n",
      "1                                      0.0   \n",
      "2                                      0.0   \n",
      "3                                      0.0   \n",
      "4                                      0.0   \n",
      "..                                     ...   \n",
      "70                                     0.0   \n",
      "71                                     0.0   \n",
      "72                                     0.0   \n",
      "73                                     0.0   \n",
      "74                                     0.0   \n",
      "\n",
      "    time_diff_from_last_location_away_team  \n",
      "0                                      0.0  \n",
      "1                                      0.0  \n",
      "2                                      0.0  \n",
      "3                                      0.0  \n",
      "4                                      0.0  \n",
      "..                                     ...  \n",
      "70                                     0.0  \n",
      "71                                     0.0  \n",
      "72                                     0.0  \n",
      "73                                     0.0  \n",
      "74                                     0.0  \n",
      "\n",
      "[75 rows x 6 columns]\n"
     ]
    }
   ],
   "source": [
    "print(final_df.head(75))"
   ]
  },
  {
   "cell_type": "code",
   "execution_count": 58,
   "id": "066983bf",
   "metadata": {},
   "outputs": [],
   "source": [
    "final_df.to_csv('timezone_data.csv')"
   ]
  },
  {
   "cell_type": "code",
   "execution_count": null,
   "id": "118d79da",
   "metadata": {},
   "outputs": [],
   "source": []
  }
 ],
 "metadata": {
  "kernelspec": {
   "display_name": "Python 3 (ipykernel)",
   "language": "python",
   "name": "python3"
  },
  "language_info": {
   "codemirror_mode": {
    "name": "ipython",
    "version": 3
   },
   "file_extension": ".py",
   "mimetype": "text/x-python",
   "name": "python",
   "nbconvert_exporter": "python",
   "pygments_lexer": "ipython3",
   "version": "3.9.18"
  }
 },
 "nbformat": 4,
 "nbformat_minor": 5
}
