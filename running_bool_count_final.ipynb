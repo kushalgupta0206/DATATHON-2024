{
 "cells": [
  {
   "cell_type": "code",
   "execution_count": 9,
   "id": "2e629972",
   "metadata": {},
   "outputs": [],
   "source": [
    "import pandas as pd\n",
    "import matplotlib.pyplot as plt\n",
    "import numpy as np\n",
    "import math \n",
    "from collections import defaultdict"
   ]
  },
  {
   "cell_type": "code",
   "execution_count": 10,
   "id": "08353f68",
   "metadata": {},
   "outputs": [],
   "source": [
    "data = pd.read_csv(\"datathon_2024_dataset.csv\")"
   ]
  },
  {
   "cell_type": "code",
   "execution_count": 11,
   "id": "4c6ef91b",
   "metadata": {},
   "outputs": [],
   "source": [
    "data = data[['game_date','home_team','away_team','is_day_game']]"
   ]
  },
  {
   "cell_type": "code",
   "execution_count": 12,
   "id": "9c33f10b",
   "metadata": {},
   "outputs": [
    {
     "name": "stderr",
     "output_type": "stream",
     "text": [
      "C:\\Users\\kusha\\anaconda3\\lib\\site-packages\\pandas\\core\\indexing.py:1684: SettingWithCopyWarning: \n",
      "A value is trying to be set on a copy of a slice from a DataFrame.\n",
      "Try using .loc[row_indexer,col_indexer] = value instead\n",
      "\n",
      "See the caveats in the documentation: https://pandas.pydata.org/pandas-docs/stable/user_guide/indexing.html#returning-a-view-versus-a-copy\n",
      "  self.obj[key] = infer_fill_value(value)\n",
      "C:\\Users\\kusha\\anaconda3\\lib\\site-packages\\pandas\\core\\indexing.py:1817: SettingWithCopyWarning: \n",
      "A value is trying to be set on a copy of a slice from a DataFrame.\n",
      "Try using .loc[row_indexer,col_indexer] = value instead\n",
      "\n",
      "See the caveats in the documentation: https://pandas.pydata.org/pandas-docs/stable/user_guide/indexing.html#returning-a-view-versus-a-copy\n",
      "  self._setitem_single_column(loc, value, pi)\n"
     ]
    },
    {
     "name": "stdout",
     "output_type": "stream",
     "text": [
      "      game_date home_team away_team  is_day_game  running_bool_count_home  \\\n",
      "0      20000329       NYN       CHN        False                      1.0   \n",
      "1      20000330       CHN       NYN        False                      2.0   \n",
      "2      20000403       ATL       COL         True                      1.0   \n",
      "3      20000403       CIN       MIL         True                      1.0   \n",
      "4      20000403       FLO       SFN        False                      1.0   \n",
      "...         ...       ...       ...          ...                      ...   \n",
      "56770  20231001       CHA       SDN         True                      4.0   \n",
      "56771  20231001       DET       CLE         True                      2.0   \n",
      "56772  20231001       KCA       NYA         True                      2.0   \n",
      "56773  20231001       SEA       TEX         True                      2.0   \n",
      "56774  20231001       TOR       TBA         True                     14.0   \n",
      "\n",
      "       running_bool_count_away  \n",
      "0                          1.0  \n",
      "1                          2.0  \n",
      "2                          1.0  \n",
      "3                          1.0  \n",
      "4                          1.0  \n",
      "...                        ...  \n",
      "56770                      7.0  \n",
      "56771                      4.0  \n",
      "56772                      7.0  \n",
      "56773                      9.0  \n",
      "56774                      9.0  \n",
      "\n",
      "[56775 rows x 6 columns]\n"
     ]
    }
   ],
   "source": [
    "final_data = []\n",
    "data['game_date'] = data['game_date'].astype(str)\n",
    "for i in range(2000,2024):\n",
    "    year = str(i)\n",
    "    complete_data = data[data['game_date'].str[:4] == year]\n",
    "    bool_map = defaultdict(int)\n",
    "    for idx,row in complete_data.iterrows():\n",
    "        curr_bool = row['is_day_game']\n",
    "\n",
    "        if bool_map[row['home_team']] == 0:\n",
    "            bool_map[row['home_team']] += 1\n",
    "            complete_data.at[idx,'running_bool_count_home']= bool_map[row['home_team']]\n",
    "            last_bool = curr_bool\n",
    "        else:\n",
    "            if curr_bool == last_bool:\n",
    "                bool_map[row['home_team']] += 1\n",
    "                complete_data.at[idx,'running_bool_count_home']= bool_map[row['home_team']]\n",
    "                last_bool = curr_bool\n",
    "            else:\n",
    "                bool_map[row['home_team']] = 1\n",
    "                complete_data.at[idx,'running_bool_count_home']= bool_map[row['home_team']]\n",
    "                last_bool = curr_bool\n",
    "\n",
    "        if bool_map[row['away_team']] == 0:\n",
    "            bool_map[row['away_team']] += 1\n",
    "            complete_data.at[idx,'running_bool_count_away']= bool_map[row['away_team']]\n",
    "            last_bool = curr_bool\n",
    "        else:\n",
    "            if curr_bool == last_bool:\n",
    "                bool_map[row['away_team']] += 1\n",
    "                complete_data.at[idx,'running_bool_count_away']= bool_map[row['away_team']]\n",
    "                last_bool = curr_bool\n",
    "            else:\n",
    "                bool_map[row['away_team']] = 1\n",
    "                complete_data.at[idx,'running_bool_count_away']= bool_map[row['away_team']]\n",
    "                last_bool = curr_bool\n",
    "                \n",
    "    final_data.append(complete_data)\n",
    "final_df = pd.concat(final_data, ignore_index=True)\n",
    "print(final_df)"
   ]
  },
  {
   "cell_type": "code",
   "execution_count": 13,
   "id": "58e60451",
   "metadata": {},
   "outputs": [],
   "source": [
    "final_df.to_csv(\"running_bool_count_final.csv\")"
   ]
  },
  {
   "cell_type": "code",
   "execution_count": null,
   "id": "27d307f8",
   "metadata": {},
   "outputs": [],
   "source": []
  }
 ],
 "metadata": {
  "kernelspec": {
   "display_name": "Python 3 (ipykernel)",
   "language": "python",
   "name": "python3"
  },
  "language_info": {
   "codemirror_mode": {
    "name": "ipython",
    "version": 3
   },
   "file_extension": ".py",
   "mimetype": "text/x-python",
   "name": "python",
   "nbconvert_exporter": "python",
   "pygments_lexer": "ipython3",
   "version": "3.9.18"
  }
 },
 "nbformat": 4,
 "nbformat_minor": 5
}
